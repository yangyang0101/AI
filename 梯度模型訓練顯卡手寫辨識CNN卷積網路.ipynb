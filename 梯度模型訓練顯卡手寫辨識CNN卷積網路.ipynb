梯度模型訓練顯卡手寫辨識{
  "nbformat": 4,
  "nbformat_minor": 0,
  "metadata": {
    "colab": {
      "provenance": []
    },
    "kernelspec": {
      "name": "python3",
      "display_name": "Python 3"
    },
    "language_info": {
      "name": "python"
    },
    "accelerator": "TPU",
    "gpuClass": "standard"
  },
  "cells": [
    {
      "cell_type": "code",
      "execution_count": null,
      "metadata": {
        "id": "gB7mPXrOtFmZ"
      },
      "outputs": [],
      "source": [
        "##梯度下降法\n",
        "import numpy as np\n",
        "import matplotlib.pyplot as plt\n",
        "# 目標函數:y=x^2\n",
        "def func(x): return np.square(x)\n",
        "# 目標函數一階導數:dy/dx=2*x\n",
        "def dfunc(x): return 2 * x\n",
        "def GD(x_start, df, epochs, lr):    \n",
        "    \"\"\"  梯度下降法。給定起始點與目標函數的一階導函數，求在epochs次反覆運算中x的更新值\n",
        "        :param x_start: x的起始點    \n",
        "        :param df: 目標函數的一階導函數    \n",
        "        :param epochs: 反覆運算週期    \n",
        "        :param lr: 學習率    \n",
        "        :return: x在每次反覆運算後的位置（包括起始點），長度為epochs+1    \n",
        "     \"\"\"    \n",
        "    xs = np.zeros(epochs+1)    \n",
        "    x = x_start    \n",
        "    xs[0] = x    \n",
        "    for i in range(epochs):         \n",
        "        dx = df(x)        \n",
        "        # v表示x要改變的幅度        \n",
        "        v = - dx * lr        \n",
        "        x += v        \n",
        "        xs[i+1] = x    \n",
        "    return xs\n",
        "# Main\n",
        "# 起始權重\n",
        "x_start = 5    \n",
        "# 執行週期數\n",
        "epochs = 10 \n",
        "# 學習率   \n",
        "lr = 0.2   \n",
        "# 梯度下降法 \n",
        "x = GD(x_start, dfunc, epochs, lr=lr) \n",
        "print (x)\n",
        "# 輸出：[-5.     -2.     -0.8    -0.32   -0.128  -0.0512]\n",
        "color = 'r'    \n",
        "#plt.plot(line_x, line_y, c='b')    \n",
        "from numpy import arange\n",
        "t = arange(-6.0, 6.0, 0.01)\n",
        "plt.plot(t, func(t), c='b')\n",
        "plt.plot(x, func(x), c=color, label='lr={}'.format(lr))    \n",
        "plt.scatter(x, func(x), c=color, )    \n",
        "plt.legend()\n",
        "plt.show()"
      ]
    },
    {
      "cell_type": "code",
      "source": [
        "##模型訓練\n",
        "from tensorflow import keras\n",
        "from keras.models import Sequential\n",
        "from keras.layers import Dense, Dropout\n",
        "\n",
        "#模型建立 \n",
        "model = Sequential()\n",
        "model.add(Dense(512, activation='relu', input_dim=784)) #第一層 訓練512個神經元\n",
        "model.add(Dropout(0.2)) #第二層 丟掉0.2個神經元\n",
        "model.add(Dense(10, activation='softmax')) #第三層 取出10個神經元\n",
        "model.compile(optimizer='adam', loss='categorical_crossentropy', metrics=['accuracy'])\n",
        " \n",
        "import numpy as np\n",
        "data = np.random.random((1000, 784)) \n",
        "labels = np.random.randint(10, size=(1000, 10))\n",
        " \n",
        "#模型訓練\n",
        "model.fit(data, labels, epochs=10, batch_size=32)\n",
        "#模型預測\n",
        "score=model.evaluate(data, labels)\n",
        "print(score[1])"
      ],
      "metadata": {
        "id": "P1DloMO3xWJY"
      },
      "execution_count": null,
      "outputs": []
    },
    {
      "cell_type": "code",
      "source": [
        "##顯示卡\n",
        "!nvidia-smi"
      ],
      "metadata": {
        "id": "ATj72OnCxzy_"
      },
      "execution_count": null,
      "outputs": []
    },
    {
      "cell_type": "code",
      "source": [
        "##手寫辨識\n",
        "from tensorflow import keras\n",
        "from keras.models import Sequential\n",
        "from keras.layers import Dense, Flatten\n",
        "model=Sequential() #模型建立\n",
        "model.add(Flatten())\n",
        "model.add(Dense(100, activation='relu', input_dim=784)) #訓練100個神經元\n",
        "model.add(Dense(10, activation='sigmoid')) #取10個神經元\n",
        "model.compile(optimizer='rmsprop', loss='sparse_categorical_crossentropy', metrics=['accuracy'])   #模型編譯  "
      ],
      "metadata": {
        "id": "l8DXji-rxPSc"
      },
      "execution_count": null,
      "outputs": []
    },
    {
      "cell_type": "code",
      "source": [
        "mnist=keras.datasets.mnist\n",
        "(train_data, train_label), (test_data, test_label) = mnist.load_data()"
      ],
      "metadata": {
        "id": "PVjlsO0_xoSQ"
      },
      "execution_count": null,
      "outputs": []
    },
    {
      "cell_type": "code",
      "source": [
        "print(type(train_data))\n",
        "print(train_data.shape)\n",
        "print(type(train_label))\n",
        "print(train_label.shape)\n",
        "print(test_data.shape)\n",
        "print(test_label.shape)"
      ],
      "metadata": {
        "id": "E-UOTBUpxpZ3"
      },
      "execution_count": null,
      "outputs": []
    },
    {
      "cell_type": "code",
      "source": [
        "print(train_label[0])\n",
        "print(train_data[0])"
      ],
      "metadata": {
        "id": "93RnKkhkxphu"
      },
      "execution_count": null,
      "outputs": []
    },
    {
      "cell_type": "code",
      "source": [
        "import matplotlib.pyplot as plt\n",
        "plt.imshow(train_data[0], cmap='binary')\n",
        "plt.show()"
      ],
      "metadata": {
        "id": "fXMOyUeoxu8H"
      },
      "execution_count": null,
      "outputs": []
    },
    {
      "cell_type": "code",
      "source": [
        "model.fit(train_data,train_label,epochs=20,batch_size=512) #模型尋練"
      ],
      "metadata": {
        "id": "QeiR18f7xwnw"
      },
      "execution_count": null,
      "outputs": []
    },
    {
      "cell_type": "code",
      "source": [
        "score=model.evaluate(test_data, test_label)\n",
        "print(score[1])"
      ],
      "metadata": {
        "id": "FJFJYQGYxyMH"
      },
      "execution_count": null,
      "outputs": []
    },
    {
      "cell_type": "code",
      "source": [
        "#CNN 卷積網路\n",
        "from tensorflow import keras\n",
        "from keras.models import Sequential\n",
        "from keras.layers import Dense, Conv2D, MaxPooling2D, Flatten\n",
        "model=Sequential()\n",
        "model.add(Conv2D(filters=16, kernel_size=(5, 5), input_shape=(28, 28, 1), activation='relu'))\n",
        "model.add(MaxPooling2D(pool_size=(2, 2))) #1/4\n",
        "#model.add(Conv2D(filters=36, kernel_size=(5, 5), activation='relu'))\n",
        "#model.add(MaxPooling2D(pool_size=(2, 2)))\n",
        "model.add(Flatten())\n",
        "model.add(Dense(10, activation='softmax'))\n",
        "model.summary()\n",
        "model.compile(optimizer='rmsprop', loss='categorical_crossentropy', metrics=['accuracy'])"
      ],
      "metadata": {
        "id": "Xs6Hw3K1AKjk"
      },
      "execution_count": null,
      "outputs": []
    },
    {
      "cell_type": "code",
      "source": [
        "mnist=keras.datasets.mnist\n",
        "(train_data, train_label), (test_data, test_label) = mnist.load_data()\n",
        "test_label_original=test_label #for crosstab\n",
        "train_label = keras.utils.to_categorical(train_label)\n",
        "test_label = keras.utils.to_categorical(test_label)"
      ],
      "metadata": {
        "id": "w_K0vYoRAUL8"
      },
      "execution_count": null,
      "outputs": []
    },
    {
      "cell_type": "code",
      "source": [
        "train_history=model.fit(train_data,train_label,epochs=10,batch_size=512)\n"
      ],
      "metadata": {
        "id": "fL3O-jHmAWU8"
      },
      "execution_count": null,
      "outputs": []
    },
    {
      "cell_type": "code",
      "source": [
        "score=model.evaluate(test_data, test_label)\n",
        "print(score[1])"
      ],
      "metadata": {
        "id": "AhdS13xRAbhd"
      },
      "execution_count": null,
      "outputs": []
    },
    {
      "cell_type": "code",
      "source": [
        "#繪製正確性與損失立歷史圖\n",
        "import matplotlib.pyplot as plt\n",
        "import numpy as np\n",
        "\n",
        "def show_train_history(train_history, train, validation):\n",
        "    plt.plot(train_history.history[train])\n",
        "    plt.plot(train_history.history[validation])\n",
        "    plt.title('Train History')\n",
        "    plt.ylabel('Train')\n",
        "    plt.xlabel('Epoch')\n",
        "    plt.legend(['train', 'validation'], loc='center right')\n",
        "    plt.show()\n",
        "\n",
        "show_train_history(train_history, 'accuracy', 'accuracy')\n",
        "show_train_history(train_history, 'loss', 'loss')\n",
        "\n",
        "# Confusion Matrix混淆矩陣\n",
        "import pandas as pd\n",
        "prediction = model.predict(test_data)\n",
        "prediction_label=np.argmax(prediction,axis=1)\n",
        "print(test_label.shape)\n",
        "pd.crosstab(test_label_original, prediction_label, rownames=['label'], colnames=['predict'])"
      ],
      "metadata": {
        "id": "1adRyd9_Ae3l"
      },
      "execution_count": null,
      "outputs": []
    },
    {
      "cell_type": "code",
      "source": [],
      "metadata": {
        "id": "tTtYe3HZAyTl"
      },
      "execution_count": null,
      "outputs": []
    }
  ]
}
